{
  "nbformat": 4,
  "nbformat_minor": 0,
  "metadata": {
    "colab": {
      "name": "MNIST_LSTM.ipynb",
      "provenance": [],
      "collapsed_sections": []
    },
    "kernelspec": {
      "name": "python3",
      "display_name": "Python 3"
    },
    "accelerator": "GPU"
  },
  "cells": [
    {
      "cell_type": "code",
      "metadata": {
        "id": "5oYcZ_S7Bgps"
      },
      "source": [
        "# Import the machine learning libraries.\r\n",
        "import numpy as np\r\n",
        "from tensorflow.keras.models import Sequential\r\n",
        "from tensorflow.keras.layers import Dense, LSTM\r\n",
        "from tensorflow.keras.utils import to_categorical\r\n",
        "from tensorflow.keras.datasets import mnist\r\n",
        "import matplotlib.pyplot as plt\r\n",
        "from matplotlib import pyplot\r\n",
        "from tensorflow.keras.optimizers import RMSprop"
      ],
      "execution_count": 31,
      "outputs": []
    },
    {
      "cell_type": "code",
      "metadata": {
        "colab": {
          "base_uri": "https://localhost:8080/"
        },
        "id": "NYyQMoZ4B5Xi",
        "outputId": "ed032d65-ba17-40f3-c9df-bd886d2a2171"
      },
      "source": [
        "# Load MNIST dataset.\r\n",
        "(x_train, y_train), (x_test, y_test) = mnist.load_data()\r\n",
        "print(x_train.shape, y_train.shape, x_test.shape, y_test.shape)"
      ],
      "execution_count": 32,
      "outputs": [
        {
          "output_type": "stream",
          "text": [
            "(60000, 28, 28) (60000,) (10000, 28, 28) (10000,)\n"
          ],
          "name": "stdout"
        }
      ]
    },
    {
      "cell_type": "code",
      "metadata": {
        "colab": {
          "base_uri": "https://localhost:8080/",
          "height": 268
        },
        "id": "dfqmOqb3DpLK",
        "outputId": "33729aca-2882-4b0d-b97d-68deb5367212"
      },
      "source": [
        "# Create a grid of 3x3 images.\r\n",
        "for i in range(0, 9):\r\n",
        "\tpyplot.subplot(330 + 1 + i)\r\n",
        "\tpyplot.imshow(x_train[i], cmap=pyplot.get_cmap('gray'))\r\n",
        "pyplot.show()"
      ],
      "execution_count": 33,
      "outputs": [
        {
          "output_type": "display_data",
          "data": {
            "image/png": "[encoded data removed]",
            "text/plain": [
              "<Figure size 432x288 with 9 Axes>"
            ]
          },
          "metadata": {
            "tags": [],
            "needs_background": "light"
          }
        }
      ]
    },
    {
      "cell_type": "code",
      "metadata": {
        "colab": {
          "base_uri": "https://localhost:8080/"
        },
        "id": "ywrjuLbdB9_d",
        "outputId": "23cef59f-9994-4427-a6fc-a2e82a54272e"
      },
      "source": [
        "# Compute the number of labels.\r\n",
        "num_labels = len(np.unique(y_train))\r\n",
        "print(num_labels)"
      ],
      "execution_count": 34,
      "outputs": [
        {
          "output_type": "stream",
          "text": [
            "10\n"
          ],
          "name": "stdout"
        }
      ]
    },
    {
      "cell_type": "code",
      "metadata": {
        "colab": {
          "base_uri": "https://localhost:8080/"
        },
        "id": "_rm1MyTRCElM",
        "outputId": "e0262cfd-b9b5-4dca-a736-539995775b76"
      },
      "source": [
        "# Converts a class vector (integers) to binary class matrix (one-hot encoding).\r\n",
        "y_train = to_categorical(y_train)\r\n",
        "y_test = to_categorical(y_test)\r\n",
        "print(y_train.shape, y_test.shape)"
      ],
      "execution_count": 35,
      "outputs": [
        {
          "output_type": "stream",
          "text": [
            "(60000, 10) (10000, 10)\n"
          ],
          "name": "stdout"
        }
      ]
    },
    {
      "cell_type": "code",
      "metadata": {
        "colab": {
          "base_uri": "https://localhost:8080/"
        },
        "id": "cucjSmBqCYey",
        "outputId": "16396d77-f7c9-43b7-ca25-bc9cb987f04e"
      },
      "source": [
        "# Resizing and Normalizztion.\r\n",
        "image_size = x_train.shape[1]\r\n",
        "x_train = np.reshape(x_train,[-1, image_size, image_size])\r\n",
        "x_test = np.reshape(x_test,[-1, image_size, image_size])\r\n",
        "x_train = x_train.astype('float32') / 255\r\n",
        "x_test = x_test.astype('float32') / 255\r\n",
        "print(x_train.shape, y_train.shape, x_test.shape, y_test.shape)"
      ],
      "execution_count": 36,
      "outputs": [
        {
          "output_type": "stream",
          "text": [
            "(60000, 28, 28) (60000, 10) (10000, 28, 28) (10000, 10)\n"
          ],
          "name": "stdout"
        }
      ]
    },
    {
      "cell_type": "code",
      "metadata": {
        "id": "DbPqWwTTCwjU"
      },
      "source": [
        "# Network parameters.\r\n",
        "input_shape = (image_size, image_size)\r\n",
        "batch_size = 128\r\n",
        "units = 256"
      ],
      "execution_count": 37,
      "outputs": []
    },
    {
      "cell_type": "code",
      "metadata": {
        "colab": {
          "base_uri": "https://localhost:8080/"
        },
        "id": "c9Ss7QEMC1Fx",
        "outputId": "543bc3b4-4769-49da-877b-88787d518ab5"
      },
      "source": [
        "# LSTM with 256 units. Input is 28 by 28.\r\n",
        "model = Sequential(name='LSTM_MNIST')\r\n",
        "model.add(LSTM(units=units, input_shape=input_shape))\r\n",
        "model.add(Dense(num_labels, activation='softmax'))\r\n",
        "model.summary()"
      ],
      "execution_count": 38,
      "outputs": [
        {
          "output_type": "stream",
          "text": [
            "Model: \"LSTM_MNIST\"\n",
            "_________________________________________________________________\n",
            "Layer (type)                 Output Shape              Param #   \n",
            "=================================================================\n",
            "lstm_2 (LSTM)                (None, 256)               291840    \n",
            "_________________________________________________________________\n",
            "dense_2 (Dense)              (None, 10)                2570      \n",
            "=================================================================\n",
            "Total params: 294,410\n",
            "Trainable params: 294,410\n",
            "Non-trainable params: 0\n",
            "_________________________________________________________________\n"
          ],
          "name": "stdout"
        }
      ]
    },
    {
      "cell_type": "code",
      "metadata": {
        "colab": {
          "base_uri": "https://localhost:8080/"
        },
        "id": "qnWy6BhIDEB9",
        "outputId": "41bc10b8-1457-40f5-81bd-1c273767da7c"
      },
      "source": [
        "# Accuracy is good metric for classification tasks.\r\n",
        "\"\"\"\r\n",
        "model.compile(loss='categorical_crossentropy',\r\n",
        "              optimizer='sgd',\r\n",
        "              metrics=['accuracy'])\r\n",
        "\"\"\"\r\n",
        "model.compile(loss='categorical_crossentropy',\r\n",
        "              optimizer=RMSprop(1e-3),\r\n",
        "              metrics=['acc'])\r\n",
        "\r\n",
        "# Train the network.\r\n",
        "history = model.fit(x_train, y_train, validation_data=(x_test, y_test), verbose=1, epochs=50, batch_size=batch_size)"
      ],
      "execution_count": 39,
      "outputs": [
        {
          "output_type": "stream",
          "text": [
            "Epoch 1/50\n",
            "469/469 [==============================] - 5s 8ms/step - loss: 0.9217 - acc: 0.6787 - val_loss: 0.1735 - val_acc: 0.9489\n",
            "Epoch 2/50\n",
            "469/469 [==============================] - 3s 6ms/step - loss: 0.1556 - acc: 0.9521 - val_loss: 0.0991 - val_acc: 0.9706\n",
            "Epoch 3/50\n",
            "469/469 [==============================] - 3s 6ms/step - loss: 0.0866 - acc: 0.9735 - val_loss: 0.0845 - val_acc: 0.9725\n",
            "Epoch 4/50\n",
            "469/469 [==============================] - 3s 6ms/step - loss: 0.0645 - acc: 0.9800 - val_loss: 0.0605 - val_acc: 0.9813\n",
            "Epoch 5/50\n",
            "469/469 [==============================] - 3s 6ms/step - loss: 0.0465 - acc: 0.9865 - val_loss: 0.0581 - val_acc: 0.9829\n",
            "Epoch 6/50\n",
            "469/469 [==============================] - 3s 6ms/step - loss: 0.0392 - acc: 0.9874 - val_loss: 0.0461 - val_acc: 0.9859\n",
            "Epoch 7/50\n",
            "469/469 [==============================] - 3s 6ms/step - loss: 0.0331 - acc: 0.9898 - val_loss: 0.0508 - val_acc: 0.9843\n",
            "Epoch 8/50\n",
            "469/469 [==============================] - 3s 6ms/step - loss: 0.0257 - acc: 0.9921 - val_loss: 0.0436 - val_acc: 0.9878\n",
            "Epoch 9/50\n",
            "469/469 [==============================] - 3s 7ms/step - loss: 0.0219 - acc: 0.9933 - val_loss: 0.0357 - val_acc: 0.9887\n",
            "Epoch 10/50\n",
            "469/469 [==============================] - 3s 6ms/step - loss: 0.0198 - acc: 0.9935 - val_loss: 0.0460 - val_acc: 0.9876\n",
            "Epoch 11/50\n",
            "469/469 [==============================] - 3s 6ms/step - loss: 0.0165 - acc: 0.9947 - val_loss: 0.0377 - val_acc: 0.9887\n",
            "Epoch 12/50\n",
            "469/469 [==============================] - 3s 6ms/step - loss: 0.0155 - acc: 0.9953 - val_loss: 0.0503 - val_acc: 0.9879\n",
            "Epoch 13/50\n",
            "469/469 [==============================] - 3s 6ms/step - loss: 0.0142 - acc: 0.9955 - val_loss: 0.0490 - val_acc: 0.9871\n",
            "Epoch 14/50\n",
            "469/469 [==============================] - 3s 6ms/step - loss: 0.0139 - acc: 0.9958 - val_loss: 0.0552 - val_acc: 0.9865\n",
            "Epoch 15/50\n",
            "469/469 [==============================] - 3s 6ms/step - loss: 0.0110 - acc: 0.9964 - val_loss: 0.0554 - val_acc: 0.9873\n",
            "Epoch 16/50\n",
            "469/469 [==============================] - 3s 7ms/step - loss: 0.0105 - acc: 0.9966 - val_loss: 0.0468 - val_acc: 0.9875\n",
            "Epoch 17/50\n",
            "469/469 [==============================] - 3s 6ms/step - loss: 0.0084 - acc: 0.9974 - val_loss: 0.0473 - val_acc: 0.9893\n",
            "Epoch 18/50\n",
            "469/469 [==============================] - 3s 6ms/step - loss: 0.0092 - acc: 0.9973 - val_loss: 0.0459 - val_acc: 0.9892\n",
            "Epoch 19/50\n",
            "469/469 [==============================] - 3s 7ms/step - loss: 0.0086 - acc: 0.9974 - val_loss: 0.0511 - val_acc: 0.9881\n",
            "Epoch 20/50\n",
            "469/469 [==============================] - 3s 6ms/step - loss: 0.0069 - acc: 0.9979 - val_loss: 0.0400 - val_acc: 0.9908\n",
            "Epoch 21/50\n",
            "469/469 [==============================] - 3s 6ms/step - loss: 0.0061 - acc: 0.9982 - val_loss: 0.0477 - val_acc: 0.9895\n",
            "Epoch 22/50\n",
            "469/469 [==============================] - 3s 6ms/step - loss: 0.0059 - acc: 0.9980 - val_loss: 0.0474 - val_acc: 0.9905\n",
            "Epoch 23/50\n",
            "469/469 [==============================] - 3s 6ms/step - loss: 0.0071 - acc: 0.9979 - val_loss: 0.0493 - val_acc: 0.9896\n",
            "Epoch 24/50\n",
            "469/469 [==============================] - 3s 6ms/step - loss: 0.0063 - acc: 0.9982 - val_loss: 0.0503 - val_acc: 0.9901\n",
            "Epoch 25/50\n",
            "469/469 [==============================] - 3s 6ms/step - loss: 0.0040 - acc: 0.9990 - val_loss: 0.0594 - val_acc: 0.9874\n",
            "Epoch 26/50\n",
            "469/469 [==============================] - 3s 6ms/step - loss: 0.0055 - acc: 0.9985 - val_loss: 0.0589 - val_acc: 0.9878\n",
            "Epoch 27/50\n",
            "469/469 [==============================] - 3s 6ms/step - loss: 0.0048 - acc: 0.9987 - val_loss: 0.0454 - val_acc: 0.9908\n",
            "Epoch 28/50\n",
            "469/469 [==============================] - 3s 6ms/step - loss: 0.0057 - acc: 0.9983 - val_loss: 0.0483 - val_acc: 0.9903\n",
            "Epoch 29/50\n",
            "469/469 [==============================] - 3s 6ms/step - loss: 0.0047 - acc: 0.9985 - val_loss: 0.0521 - val_acc: 0.9894\n",
            "Epoch 30/50\n",
            "469/469 [==============================] - 3s 6ms/step - loss: 0.0050 - acc: 0.9986 - val_loss: 0.0492 - val_acc: 0.9898\n",
            "Epoch 31/50\n",
            "469/469 [==============================] - 3s 6ms/step - loss: 0.0047 - acc: 0.9988 - val_loss: 0.0516 - val_acc: 0.9899\n",
            "Epoch 32/50\n",
            "469/469 [==============================] - 3s 6ms/step - loss: 0.0045 - acc: 0.9987 - val_loss: 0.0519 - val_acc: 0.9907\n",
            "Epoch 33/50\n",
            "469/469 [==============================] - 3s 6ms/step - loss: 0.0038 - acc: 0.9990 - val_loss: 0.0494 - val_acc: 0.9900\n",
            "Epoch 34/50\n",
            "469/469 [==============================] - 3s 6ms/step - loss: 0.0047 - acc: 0.9988 - val_loss: 0.0575 - val_acc: 0.9892\n",
            "Epoch 35/50\n",
            "469/469 [==============================] - 3s 6ms/step - loss: 0.0023 - acc: 0.9994 - val_loss: 0.0530 - val_acc: 0.9916\n",
            "Epoch 36/50\n",
            "469/469 [==============================] - 3s 6ms/step - loss: 0.0033 - acc: 0.9990 - val_loss: 0.0518 - val_acc: 0.9903\n",
            "Epoch 37/50\n",
            "469/469 [==============================] - 3s 7ms/step - loss: 0.0034 - acc: 0.9991 - val_loss: 0.0513 - val_acc: 0.9900\n",
            "Epoch 38/50\n",
            "469/469 [==============================] - 3s 6ms/step - loss: 0.0019 - acc: 0.9995 - val_loss: 0.0566 - val_acc: 0.9893\n",
            "Epoch 39/50\n",
            "469/469 [==============================] - 3s 7ms/step - loss: 0.0022 - acc: 0.9993 - val_loss: 0.0607 - val_acc: 0.9893\n",
            "Epoch 40/50\n",
            "469/469 [==============================] - 3s 6ms/step - loss: 0.0027 - acc: 0.9991 - val_loss: 0.0507 - val_acc: 0.9911\n",
            "Epoch 41/50\n",
            "469/469 [==============================] - 3s 6ms/step - loss: 0.0032 - acc: 0.9990 - val_loss: 0.0567 - val_acc: 0.9900\n",
            "Epoch 42/50\n",
            "469/469 [==============================] - 3s 6ms/step - loss: 0.0033 - acc: 0.9992 - val_loss: 0.0574 - val_acc: 0.9905\n",
            "Epoch 43/50\n",
            "469/469 [==============================] - 3s 6ms/step - loss: 0.0035 - acc: 0.9991 - val_loss: 0.0524 - val_acc: 0.9919\n",
            "Epoch 44/50\n",
            "469/469 [==============================] - 3s 6ms/step - loss: 0.0014 - acc: 0.9995 - val_loss: 0.0532 - val_acc: 0.9911\n",
            "Epoch 45/50\n",
            "469/469 [==============================] - 3s 6ms/step - loss: 0.0017 - acc: 0.9996 - val_loss: 0.0530 - val_acc: 0.9912\n",
            "Epoch 46/50\n",
            "469/469 [==============================] - 3s 6ms/step - loss: 0.0029 - acc: 0.9994 - val_loss: 0.0544 - val_acc: 0.9906\n",
            "Epoch 47/50\n",
            "469/469 [==============================] - 3s 6ms/step - loss: 0.0022 - acc: 0.9994 - val_loss: 0.0524 - val_acc: 0.9905\n",
            "Epoch 48/50\n",
            "469/469 [==============================] - 3s 6ms/step - loss: 0.0021 - acc: 0.9995 - val_loss: 0.0526 - val_acc: 0.9904\n",
            "Epoch 49/50\n",
            "469/469 [==============================] - 3s 6ms/step - loss: 0.0020 - acc: 0.9994 - val_loss: 0.0610 - val_acc: 0.9904\n",
            "Epoch 50/50\n",
            "469/469 [==============================] - 3s 7ms/step - loss: 0.0017 - acc: 0.9995 - val_loss: 0.0684 - val_acc: 0.9904\n"
          ],
          "name": "stdout"
        }
      ]
    },
    {
      "cell_type": "code",
      "metadata": {
        "colab": {
          "base_uri": "https://localhost:8080/"
        },
        "id": "oTJCI4I5HIWT",
        "outputId": "391962f8-7b8b-4936-d7ff-5cec6196821a"
      },
      "source": [
        "# List all data in history.\r\n",
        "print(history.history.keys())"
      ],
      "execution_count": 40,
      "outputs": [
        {
          "output_type": "stream",
          "text": [
            "dict_keys(['loss', 'acc', 'val_loss', 'val_acc'])\n"
          ],
          "name": "stdout"
        }
      ]
    },
    {
      "cell_type": "code",
      "metadata": {
        "colab": {
          "base_uri": "https://localhost:8080/",
          "height": 573
        },
        "id": "htHV_ewhDXLi",
        "outputId": "0729ea54-891f-450c-8ed7-d0ad5790d7b8"
      },
      "source": [
        "# Plot graphs for accuracy.\r\n",
        "plt.figure(0)\r\n",
        "plt.plot(history.history['acc'], label='training accuracy')\r\n",
        "plt.plot(history.history['val_acc'], label='val accuracy')\r\n",
        "plt.title('Accuracy')\r\n",
        "plt.xlabel('epochs')\r\n",
        "plt.ylabel('accuracy')\r\n",
        "plt.legend()\r\n",
        "plt.show()\r\n",
        "plt.figure(1)\r\n",
        "plt.plot(history.history['loss'], label='training loss')\r\n",
        "plt.plot(history.history['val_loss'], label='val loss')\r\n",
        "plt.title('Loss')\r\n",
        "plt.xlabel('epochs')\r\n",
        "plt.ylabel('loss')\r\n",
        "plt.legend()\r\n",
        "plt.show()"
      ],
      "execution_count": 41,
      "outputs": [
        {
          "output_type": "display_data",
          "data": {
            "image/png": "[encoded data removed]",
            "text/plain": [
              "<Figure size 432x288 with 1 Axes>"
            ]
          },
          "metadata": {
            "tags": [],
            "needs_background": "light"
          }
        },
        {
          "output_type": "display_data",
          "data": {
            "image/png": "[encoded data removed]",
            "text/plain": [
              "<Figure size 432x288 with 1 Axes>"
            ]
          },
          "metadata": {
            "tags": [],
            "needs_background": "light"
          }
        }
      ]
    },
    {
      "cell_type": "code",
      "metadata": {
        "colab": {
          "base_uri": "https://localhost:8080/"
        },
        "id": "B4i8Z8LWDdyG",
        "outputId": "c854a238-8faa-40ae-996d-fe52bb3ced5b"
      },
      "source": [
        "# Print accuracy.\r\n",
        "loss, acc = model.evaluate(x_test, y_test, batch_size=batch_size)\r\n",
        "print(\"\\nTest accuracy: %.1f%%\" % (100.0 * acc))"
      ],
      "execution_count": 42,
      "outputs": [
        {
          "output_type": "stream",
          "text": [
            "79/79 [==============================] - 0s 4ms/step - loss: 0.0684 - acc: 0.9904\n",
            "\n",
            "Test accuracy: 99.0%\n"
          ],
          "name": "stdout"
        }
      ]
    },
    {
      "cell_type": "code",
      "metadata": {
        "id": "DV0bogN7Drg8"
      },
      "source": [
        ""
      ],
      "execution_count": 42,
      "outputs": []
    }
  ]
}