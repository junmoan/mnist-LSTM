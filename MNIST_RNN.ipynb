{
  "nbformat": 4,
  "nbformat_minor": 0,
  "metadata": {
    "colab": {
      "name": "MNIST_RNN.ipynb",
      "provenance": [],
      "collapsed_sections": []
    },
    "kernelspec": {
      "name": "python3",
      "display_name": "Python 3"
    },
    "accelerator": "GPU"
  },
  "cells": [
    {
      "cell_type": "code",
      "metadata": {
        "id": "5oYcZ_S7Bgps"
      },
      "source": [
        "# Import the machine learning libraries.\r\n",
        "import numpy as np\r\n",
        "from keras.models import Sequential\r\n",
        "from keras.layers import Dense, Activation, SimpleRNN\r\n",
        "from keras.utils import to_categorical, plot_model\r\n",
        "from keras.datasets import mnist\r\n",
        "import matplotlib.pyplot as plt\r\n",
        "from matplotlib import pyplot\r\n",
        "from tensorflow.keras.optimizers import RMSprop"
      ],
      "execution_count": 25,
      "outputs": []
    },
    {
      "cell_type": "code",
      "metadata": {
        "colab": {
          "base_uri": "https://localhost:8080/"
        },
        "id": "NYyQMoZ4B5Xi",
        "outputId": "78a81664-b3f9-40f8-cb66-978fe26100c1"
      },
      "source": [
        "# Load MNIST dataset.\r\n",
        "(x_train, y_train), (x_test, y_test) = mnist.load_data()\r\n",
        "print(x_train.shape, y_train.shape, x_test.shape, y_test.shape)"
      ],
      "execution_count": 26,
      "outputs": [
        {
          "output_type": "stream",
          "text": [
            "(60000, 28, 28) (60000,) (10000, 28, 28) (10000,)\n"
          ],
          "name": "stdout"
        }
      ]
    },
    {
      "cell_type": "code",
      "metadata": {
        "colab": {
          "base_uri": "https://localhost:8080/",
          "height": 268
        },
        "id": "dfqmOqb3DpLK",
        "outputId": "6e2dd5a9-1eda-4e50-9d24-19cd5d302112"
      },
      "source": [
        "# Create a grid of 3x3 images.\r\n",
        "for i in range(0, 9):\r\n",
        "\tpyplot.subplot(330 + 1 + i)\r\n",
        "\tpyplot.imshow(x_train[i], cmap=pyplot.get_cmap('gray'))\r\n",
        "pyplot.show()"
      ],
      "execution_count": 27,
      "outputs": [
        {
          "output_type": "display_data",
          "data": {
            "image/png": "[encoded data removed]",
            "text/plain": [
              "<Figure size 432x288 with 9 Axes>"
            ]
          },
          "metadata": {
            "tags": [],
            "needs_background": "light"
          }
        }
      ]
    },
    {
      "cell_type": "code",
      "metadata": {
        "colab": {
          "base_uri": "https://localhost:8080/"
        },
        "id": "ywrjuLbdB9_d",
        "outputId": "0b7781f2-dab5-4bd1-ce7a-9318eac98f35"
      },
      "source": [
        "# Compute the number of labels.\r\n",
        "num_labels = len(np.unique(y_train))\r\n",
        "print(num_labels)"
      ],
      "execution_count": 28,
      "outputs": [
        {
          "output_type": "stream",
          "text": [
            "10\n"
          ],
          "name": "stdout"
        }
      ]
    },
    {
      "cell_type": "code",
      "metadata": {
        "colab": {
          "base_uri": "https://localhost:8080/"
        },
        "id": "_rm1MyTRCElM",
        "outputId": "bd1e29ef-fe2d-452b-8b63-1d1f52a073f0"
      },
      "source": [
        "# Converts a class vector (integers) to binary class matrix (one-hot encoding).\r\n",
        "y_train = to_categorical(y_train)\r\n",
        "y_test = to_categorical(y_test)\r\n",
        "print(y_train.shape, y_test.shape)"
      ],
      "execution_count": 29,
      "outputs": [
        {
          "output_type": "stream",
          "text": [
            "(60000, 10) (10000, 10)\n"
          ],
          "name": "stdout"
        }
      ]
    },
    {
      "cell_type": "code",
      "metadata": {
        "colab": {
          "base_uri": "https://localhost:8080/"
        },
        "id": "cucjSmBqCYey",
        "outputId": "b6f368c5-02af-42a6-98aa-4aaedfe6fdc1"
      },
      "source": [
        "# Resizing and Normalizztion.\r\n",
        "image_size = x_train.shape[1]\r\n",
        "x_train = np.reshape(x_train,[-1, image_size, image_size])\r\n",
        "x_test = np.reshape(x_test,[-1, image_size, image_size])\r\n",
        "x_train = x_train.astype('float32') / 255\r\n",
        "x_test = x_test.astype('float32') / 255\r\n",
        "print(x_train.shape, y_train.shape, x_test.shape, y_test.shape)"
      ],
      "execution_count": 30,
      "outputs": [
        {
          "output_type": "stream",
          "text": [
            "(60000, 28, 28) (60000, 10) (10000, 28, 28) (10000, 10)\n"
          ],
          "name": "stdout"
        }
      ]
    },
    {
      "cell_type": "code",
      "metadata": {
        "id": "DbPqWwTTCwjU"
      },
      "source": [
        "# Network parameters.\r\n",
        "input_shape = (image_size, image_size)\r\n",
        "batch_size = 128\r\n",
        "units = 256\r\n",
        "dropout = 0.2"
      ],
      "execution_count": 31,
      "outputs": []
    },
    {
      "cell_type": "code",
      "metadata": {
        "colab": {
          "base_uri": "https://localhost:8080/"
        },
        "id": "c9Ss7QEMC1Fx",
        "outputId": "d2487825-edd2-482e-e1df-8bf79a09873f"
      },
      "source": [
        "# LSTM with 256 units. Input is 28 by 28.\r\n",
        "model = Sequential()\r\n",
        "model.add(SimpleRNN(units=units, input_shape=input_shape))\r\n",
        "model.add(Dense(num_labels))\r\n",
        "model.add(Activation('softmax'))\r\n",
        "model.summary()"
      ],
      "execution_count": 32,
      "outputs": [
        {
          "output_type": "stream",
          "text": [
            "Model: \"sequential_2\"\n",
            "_________________________________________________________________\n",
            "Layer (type)                 Output Shape              Param #   \n",
            "=================================================================\n",
            "simple_rnn_2 (SimpleRNN)     (None, 256)               72960     \n",
            "_________________________________________________________________\n",
            "dense_2 (Dense)              (None, 10)                2570      \n",
            "_________________________________________________________________\n",
            "activation_2 (Activation)    (None, 10)                0         \n",
            "=================================================================\n",
            "Total params: 75,530\n",
            "Trainable params: 75,530\n",
            "Non-trainable params: 0\n",
            "_________________________________________________________________\n"
          ],
          "name": "stdout"
        }
      ]
    },
    {
      "cell_type": "code",
      "metadata": {
        "colab": {
          "base_uri": "https://localhost:8080/"
        },
        "id": "qnWy6BhIDEB9",
        "outputId": "38cfe922-2904-4639-f77e-2b29f39a342c"
      },
      "source": [
        "# Accuracy is good metric for classification tasks.\r\n",
        "model.compile(loss='categorical_crossentropy',\r\n",
        "              optimizer='sgd',\r\n",
        "              metrics=['acc'])\r\n",
        "\"\"\"\r\n",
        "model.compile(loss='categorical_crossentropy',\r\n",
        "              optimizer=RMSprop(1e-3),\r\n",
        "              metrics=['acc'])\r\n",
        "\"\"\"\r\n",
        "\r\n",
        "# Train the network.\r\n",
        "history = model.fit(x_train, y_train, validation_data=(x_test, y_test), verbose=1, epochs=50, batch_size=batch_size)"
      ],
      "execution_count": 33,
      "outputs": [
        {
          "output_type": "stream",
          "text": [
            "Epoch 1/50\n",
            "469/469 [==============================] - 10s 21ms/step - loss: 1.0085 - acc: 0.7139 - val_loss: 0.3017 - val_acc: 0.9173\n",
            "Epoch 2/50\n",
            "469/469 [==============================] - 9s 20ms/step - loss: 0.2945 - acc: 0.9148 - val_loss: 0.2022 - val_acc: 0.9428\n",
            "Epoch 3/50\n",
            "469/469 [==============================] - 10s 21ms/step - loss: 0.2105 - acc: 0.9403 - val_loss: 0.1859 - val_acc: 0.9463\n",
            "Epoch 4/50\n",
            "469/469 [==============================] - 10s 22ms/step - loss: 0.1682 - acc: 0.9497 - val_loss: 0.1477 - val_acc: 0.9572\n",
            "Epoch 5/50\n",
            "469/469 [==============================] - 10s 21ms/step - loss: 0.1418 - acc: 0.9591 - val_loss: 0.1403 - val_acc: 0.9582\n",
            "Epoch 6/50\n",
            "469/469 [==============================] - 9s 20ms/step - loss: 0.1273 - acc: 0.9628 - val_loss: 0.1300 - val_acc: 0.9618\n",
            "Epoch 7/50\n",
            "469/469 [==============================] - 9s 20ms/step - loss: 0.1132 - acc: 0.9670 - val_loss: 0.1131 - val_acc: 0.9641\n",
            "Epoch 8/50\n",
            "469/469 [==============================] - 9s 20ms/step - loss: 0.1031 - acc: 0.9704 - val_loss: 0.0999 - val_acc: 0.9687\n",
            "Epoch 9/50\n",
            "469/469 [==============================] - 9s 20ms/step - loss: 0.0921 - acc: 0.9732 - val_loss: 0.0886 - val_acc: 0.9729\n",
            "Epoch 10/50\n",
            "469/469 [==============================] - 10s 21ms/step - loss: 0.0866 - acc: 0.9742 - val_loss: 0.1004 - val_acc: 0.9703\n",
            "Epoch 11/50\n",
            "469/469 [==============================] - 10s 21ms/step - loss: 0.0820 - acc: 0.9757 - val_loss: 0.0951 - val_acc: 0.9711\n",
            "Epoch 12/50\n",
            "469/469 [==============================] - 9s 20ms/step - loss: 0.0751 - acc: 0.9775 - val_loss: 0.0905 - val_acc: 0.9721\n",
            "Epoch 13/50\n",
            "469/469 [==============================] - 10s 21ms/step - loss: 0.0681 - acc: 0.9796 - val_loss: 0.0823 - val_acc: 0.9755\n",
            "Epoch 14/50\n",
            "469/469 [==============================] - 10s 21ms/step - loss: 0.0634 - acc: 0.9815 - val_loss: 0.0857 - val_acc: 0.9736\n",
            "Epoch 15/50\n",
            "469/469 [==============================] - 10s 20ms/step - loss: 0.0604 - acc: 0.9827 - val_loss: 0.0655 - val_acc: 0.9783\n",
            "Epoch 16/50\n",
            "469/469 [==============================] - 10s 20ms/step - loss: 0.0603 - acc: 0.9820 - val_loss: 0.0755 - val_acc: 0.9754\n",
            "Epoch 17/50\n",
            "469/469 [==============================] - 9s 20ms/step - loss: 0.0531 - acc: 0.9843 - val_loss: 0.0693 - val_acc: 0.9778\n",
            "Epoch 18/50\n",
            "469/469 [==============================] - 9s 20ms/step - loss: 0.0516 - acc: 0.9848 - val_loss: 0.0745 - val_acc: 0.9766\n",
            "Epoch 19/50\n",
            "469/469 [==============================] - 10s 21ms/step - loss: 0.0488 - acc: 0.9855 - val_loss: 0.0711 - val_acc: 0.9782\n",
            "Epoch 20/50\n",
            "469/469 [==============================] - 10s 21ms/step - loss: 0.0470 - acc: 0.9860 - val_loss: 0.0692 - val_acc: 0.9777\n",
            "Epoch 21/50\n",
            "469/469 [==============================] - 10s 20ms/step - loss: 0.0432 - acc: 0.9871 - val_loss: 0.0696 - val_acc: 0.9763\n",
            "Epoch 22/50\n",
            "469/469 [==============================] - 10s 22ms/step - loss: 0.0425 - acc: 0.9877 - val_loss: 0.0617 - val_acc: 0.9810\n",
            "Epoch 23/50\n",
            "469/469 [==============================] - 10s 21ms/step - loss: 0.0408 - acc: 0.9883 - val_loss: 0.0663 - val_acc: 0.9811\n",
            "Epoch 24/50\n",
            "469/469 [==============================] - 10s 20ms/step - loss: 0.0400 - acc: 0.9881 - val_loss: 0.0702 - val_acc: 0.9773\n",
            "Epoch 25/50\n",
            "469/469 [==============================] - 10s 21ms/step - loss: 0.0373 - acc: 0.9894 - val_loss: 0.0560 - val_acc: 0.9826\n",
            "Epoch 26/50\n",
            "469/469 [==============================] - 9s 20ms/step - loss: 0.0323 - acc: 0.9903 - val_loss: 0.0715 - val_acc: 0.9768\n",
            "Epoch 27/50\n",
            "469/469 [==============================] - 9s 20ms/step - loss: 0.0343 - acc: 0.9895 - val_loss: 0.0667 - val_acc: 0.9800\n",
            "Epoch 28/50\n",
            "469/469 [==============================] - 9s 20ms/step - loss: 0.0456 - acc: 0.9863 - val_loss: 0.0647 - val_acc: 0.9809\n",
            "Epoch 29/50\n",
            "469/469 [==============================] - 9s 20ms/step - loss: 0.0307 - acc: 0.9910 - val_loss: 0.0601 - val_acc: 0.9820\n",
            "Epoch 30/50\n",
            "469/469 [==============================] - 10s 21ms/step - loss: 0.0317 - acc: 0.9912 - val_loss: 0.0579 - val_acc: 0.9825\n",
            "Epoch 31/50\n",
            "469/469 [==============================] - 9s 20ms/step - loss: 0.0285 - acc: 0.9919 - val_loss: 0.0627 - val_acc: 0.9818\n",
            "Epoch 32/50\n",
            "469/469 [==============================] - 9s 20ms/step - loss: 0.0268 - acc: 0.9918 - val_loss: 0.0547 - val_acc: 0.9829\n",
            "Epoch 33/50\n",
            "469/469 [==============================] - 10s 21ms/step - loss: 0.0253 - acc: 0.9928 - val_loss: 0.0616 - val_acc: 0.9810\n",
            "Epoch 34/50\n",
            "469/469 [==============================] - 10s 20ms/step - loss: 0.0243 - acc: 0.9929 - val_loss: 0.0565 - val_acc: 0.9822\n",
            "Epoch 35/50\n",
            "469/469 [==============================] - 9s 20ms/step - loss: 0.0234 - acc: 0.9936 - val_loss: 0.0862 - val_acc: 0.9761\n",
            "Epoch 36/50\n",
            "469/469 [==============================] - 10s 20ms/step - loss: 0.0247 - acc: 0.9929 - val_loss: 0.0604 - val_acc: 0.9808\n",
            "Epoch 37/50\n",
            "469/469 [==============================] - 10s 22ms/step - loss: 0.0225 - acc: 0.9932 - val_loss: 0.0553 - val_acc: 0.9828\n",
            "Epoch 38/50\n",
            "469/469 [==============================] - 9s 20ms/step - loss: 0.0190 - acc: 0.9948 - val_loss: 0.0579 - val_acc: 0.9819\n",
            "Epoch 39/50\n",
            "469/469 [==============================] - 10s 21ms/step - loss: 0.0189 - acc: 0.9952 - val_loss: 0.0554 - val_acc: 0.9826\n",
            "Epoch 40/50\n",
            "469/469 [==============================] - 11s 22ms/step - loss: 0.0190 - acc: 0.9948 - val_loss: 0.0539 - val_acc: 0.9830\n",
            "Epoch 41/50\n",
            "469/469 [==============================] - 10s 22ms/step - loss: 0.0192 - acc: 0.9943 - val_loss: 0.0526 - val_acc: 0.9832\n",
            "Epoch 42/50\n",
            "469/469 [==============================] - 10s 21ms/step - loss: 0.0176 - acc: 0.9952 - val_loss: 0.0545 - val_acc: 0.9832\n",
            "Epoch 43/50\n",
            "469/469 [==============================] - 10s 21ms/step - loss: 0.0161 - acc: 0.9960 - val_loss: 0.0643 - val_acc: 0.9802\n",
            "Epoch 44/50\n",
            "469/469 [==============================] - 11s 23ms/step - loss: 0.0169 - acc: 0.9954 - val_loss: 0.0546 - val_acc: 0.9835\n",
            "Epoch 45/50\n",
            "469/469 [==============================] - 10s 22ms/step - loss: 0.0157 - acc: 0.9960 - val_loss: 0.0599 - val_acc: 0.9819\n",
            "Epoch 46/50\n",
            "469/469 [==============================] - 11s 23ms/step - loss: 0.0168 - acc: 0.9953 - val_loss: 0.0633 - val_acc: 0.9821\n",
            "Epoch 47/50\n",
            "469/469 [==============================] - 10s 21ms/step - loss: 0.0137 - acc: 0.9961 - val_loss: 0.0538 - val_acc: 0.9845\n",
            "Epoch 48/50\n",
            "469/469 [==============================] - 10s 20ms/step - loss: 0.0134 - acc: 0.9967 - val_loss: 0.0561 - val_acc: 0.9830\n",
            "Epoch 49/50\n",
            "469/469 [==============================] - 10s 22ms/step - loss: 0.0148 - acc: 0.9958 - val_loss: 0.0552 - val_acc: 0.9821\n",
            "Epoch 50/50\n",
            "469/469 [==============================] - 10s 21ms/step - loss: 0.0139 - acc: 0.9968 - val_loss: 0.0507 - val_acc: 0.9843\n"
          ],
          "name": "stdout"
        }
      ]
    },
    {
      "cell_type": "code",
      "metadata": {
        "colab": {
          "base_uri": "https://localhost:8080/"
        },
        "id": "oTJCI4I5HIWT",
        "outputId": "a08b6285-bf16-412f-cf71-627c3a5a6611"
      },
      "source": [
        "# List all data in history.\r\n",
        "print(history.history.keys())"
      ],
      "execution_count": 34,
      "outputs": [
        {
          "output_type": "stream",
          "text": [
            "dict_keys(['loss', 'acc', 'val_loss', 'val_acc'])\n"
          ],
          "name": "stdout"
        }
      ]
    },
    {
      "cell_type": "code",
      "metadata": {
        "colab": {
          "base_uri": "https://localhost:8080/",
          "height": 573
        },
        "id": "htHV_ewhDXLi",
        "outputId": "5a0e8263-d470-43dd-9218-ebe15c214378"
      },
      "source": [
        "# Plot graphs for accuracy.\r\n",
        "plt.figure(0)\r\n",
        "plt.plot(history.history['acc'], label='training accuracy')\r\n",
        "plt.plot(history.history['val_acc'], label='val accuracy')\r\n",
        "plt.title('Accuracy')\r\n",
        "plt.xlabel('epochs')\r\n",
        "plt.ylabel('accuracy')\r\n",
        "plt.legend()\r\n",
        "plt.show()\r\n",
        "plt.figure(1)\r\n",
        "plt.plot(history.history['loss'], label='training loss')\r\n",
        "plt.plot(history.history['val_loss'], label='val loss')\r\n",
        "plt.title('Loss')\r\n",
        "plt.xlabel('epochs')\r\n",
        "plt.ylabel('loss')\r\n",
        "plt.legend()\r\n",
        "plt.show()"
      ],
      "execution_count": 35,
      "outputs": [
        {
          "output_type": "display_data",
          "data": {
            "image/png": "[encoded data removed]",
            "text/plain": [
              "<Figure size 432x288 with 1 Axes>"
            ]
          },
          "metadata": {
            "tags": [],
            "needs_background": "light"
          }
        },
        {
          "output_type": "display_data",
          "data": {
            "image/png": "[encoded data removed]",
            "text/plain": [
              "<Figure size 432x288 with 1 Axes>"
            ]
          },
          "metadata": {
            "tags": [],
            "needs_background": "light"
          }
        }
      ]
    },
    {
      "cell_type": "code",
      "metadata": {
        "colab": {
          "base_uri": "https://localhost:8080/"
        },
        "id": "B4i8Z8LWDdyG",
        "outputId": "e7b0ea07-5520-4d8c-8e24-5d2c45d9fd0b"
      },
      "source": [
        "# Print accuracy.\r\n",
        "loss, acc = model.evaluate(x_test, y_test, batch_size=batch_size)\r\n",
        "print(\"\\nTest accuracy: %.1f%%\" % (100.0 * acc))"
      ],
      "execution_count": 36,
      "outputs": [
        {
          "output_type": "stream",
          "text": [
            "79/79 [==============================] - 0s 5ms/step - loss: 0.0507 - acc: 0.9843\n",
            "\n",
            "Test accuracy: 98.4%\n"
          ],
          "name": "stdout"
        }
      ]
    },
    {
      "cell_type": "code",
      "metadata": {
        "id": "DV0bogN7Drg8"
      },
      "source": [
        ""
      ],
      "execution_count": 36,
      "outputs": []
    }
  ]
}